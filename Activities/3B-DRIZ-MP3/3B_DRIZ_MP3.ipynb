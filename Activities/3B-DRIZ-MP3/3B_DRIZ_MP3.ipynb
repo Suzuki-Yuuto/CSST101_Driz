{
  "nbformat": 4,
  "nbformat_minor": 0,
  "metadata": {
    "colab": {
      "provenance": []
    },
    "kernelspec": {
      "name": "python3",
      "display_name": "Python 3"
    },
    "language_info": {
      "name": "python"
    }
  },
  "cells": [
    {
      "cell_type": "markdown",
      "source": [
        "# Machine Problem #3: Interactive Probability and Decision-Making in AI"
      ],
      "metadata": {
        "id": "dRTRY0_uwYOB"
      }
    },
    {
      "cell_type": "code",
      "execution_count": 8,
      "metadata": {
        "colab": {
          "base_uri": "https://localhost:8080/"
        },
        "id": "NbgdEPPBwNUb",
        "outputId": "0dd7627c-8339-4fcd-a797-50bd86e30b18"
      },
      "outputs": [
        {
          "output_type": "stream",
          "name": "stdout",
          "text": [
            "Joint Probability: 0.12\n",
            "Marginal Probability: 0.58\n",
            "Conditional Probability: 0.6\n"
          ]
        }
      ],
      "source": [
        "#@title # **Part 1: Implement Basic Probability Calculations**\n",
        "\n",
        "def joint_probability(p_A, p_B):\n",
        "  return p_A * p_B\n",
        "\n",
        "def marginal_probability(p_A, p_B):\n",
        "  return p_A + p_B - joint_probability(p_A, p_B)\n",
        "\n",
        "def conditional_probability(p_B_given_A, p_A, p_B):\n",
        "  return(p_B_given_A * p_A) / p_B\n",
        "\n",
        "# Example Usage\n",
        "\n",
        "p_A = 0.3\n",
        "p_B = 0.4\n",
        "p_B_given_A = 0.8\n",
        "\n",
        "print(f\"Joint Probability: {joint_probability(p_A, p_B)}\")\n",
        "print(f\"Marginal Probability: {marginal_probability(p_A, p_B)}\")\n",
        "print(f\"Conditional Probability: {conditional_probability(p_B_given_A, p_A, p_B)}\")"
      ]
    },
    {
      "cell_type": "code",
      "source": [
        "#@title # **Part 2: Bayesian Inference for Real-World Scenarios**\n",
        "\n",
        "def bayesian_inference(prior, likelihood_positive_given_disease, likelihood_positive):\n",
        "  posterior = (likelihood_positive_given_disease * prior) / likelihood_positive\n",
        "  return posterior\n",
        "\n",
        "# Example Usage\n",
        "prior = 0.01\n",
        "likelihood_positive_given_disease = 0.9\n",
        "likelihood_positive = 0.05\n",
        "\n",
        "posterior_disease = bayesian_inference(prior, likelihood_positive_given_disease, likelihood_positive)\n",
        "print(f\"Posterior Probability of disease given positive test: {posterior_disease}\")"
      ],
      "metadata": {
        "colab": {
          "base_uri": "https://localhost:8080/"
        },
        "id": "33toiFu3xx4p",
        "outputId": "91ed793c-ec6d-4c97-d669-a26b9795863a"
      },
      "execution_count": 9,
      "outputs": [
        {
          "output_type": "stream",
          "name": "stdout",
          "text": [
            "Posterior Probability of disease given positive test: 0.18000000000000002\n"
          ]
        }
      ]
    },
    {
      "cell_type": "code",
      "source": [
        "#@title # **Part 3: Simulate Decision-Making Under Uncertainty**\n",
        "\n",
        "import numpy as np\n",
        "\n",
        "def simulate_decision(num_simulations, p_success, reward_success, reward_failure):\n",
        "  outcomes = []\n",
        "  for _ in range(num_simulations):\n",
        "    if np.random.rand() < p_success:\n",
        "      outcomes.append(reward_success)\n",
        "    else:\n",
        "      outcomes.append(reward_failure)\n",
        "  return np.mean(outcomes)\n",
        "\n",
        "# Example Usage\n",
        "num_simulations = 1000\n",
        "p_success = 0.7\n",
        "reward_success = 1000\n",
        "reward_failure = -500\n",
        "\n",
        "average_outcome = simulate_decision(num_simulations, p_success, reward_success, reward_failure)\n",
        "print(f\"Simulating {num_simulations} decisions...\")\n",
        "print(f\"Average Return: {average_outcome}\")"
      ],
      "metadata": {
        "colab": {
          "base_uri": "https://localhost:8080/"
        },
        "id": "PlC02spRyumI",
        "outputId": "44b8bf95-ed5c-4379-af41-e8e2585b8954"
      },
      "execution_count": 10,
      "outputs": [
        {
          "output_type": "stream",
          "name": "stdout",
          "text": [
            "Simulating 1000 decisions...\n",
            "Average Return: 601.0\n"
          ]
        }
      ]
    },
    {
      "cell_type": "code",
      "source": [
        "#@title # **Part 4: Visualize Probability Distributions**\n",
        "\n",
        "import matplotlib.pyplot as plt\n",
        "import numpy as np\n",
        "\n",
        "n_trials = 1000\n",
        "p_head = 0.5\n",
        "binomial_distrubution = np.random.binomial(1, p_head, n_trials)\n",
        "\n",
        "plt.hist(binomial_distrubution, bins=2)\n",
        "plt.title('Binomial Distribution (Coin Flips)')\n",
        "plt.show"
      ],
      "metadata": {
        "colab": {
          "base_uri": "https://localhost:8080/",
          "height": 622
        },
        "id": "GILBvxvG0EDS",
        "outputId": "c34ad8e7-7a0c-4f41-9f51-24c9b734b0b2"
      },
      "execution_count": 11,
      "outputs": [
        {
          "output_type": "execute_result",
          "data": {
            "text/plain": [
              "<function matplotlib.pyplot.show(close=None, block=None)>"
            ],
            "text/html": [
              "<div style=\"max-width:800px; border: 1px solid var(--colab-border-color);\"><style>\n",
              "      pre.function-repr-contents {\n",
              "        overflow-x: auto;\n",
              "        padding: 8px 12px;\n",
              "        max-height: 500px;\n",
              "      }\n",
              "\n",
              "      pre.function-repr-contents.function-repr-contents-collapsed {\n",
              "        cursor: pointer;\n",
              "        max-height: 100px;\n",
              "      }\n",
              "    </style>\n",
              "    <pre style=\"white-space: initial; background:\n",
              "         var(--colab-secondary-surface-color); padding: 8px 12px;\n",
              "         border-bottom: 1px solid var(--colab-border-color);\"><b>matplotlib.pyplot.show</b><br/>def show(*args, **kwargs)</pre><pre class=\"function-repr-contents function-repr-contents-collapsed\" style=\"\"><a class=\"filepath\" style=\"display:none\" href=\"#\">/usr/local/lib/python3.10/dist-packages/matplotlib/pyplot.py</a>Display all open figures.\n",
              "\n",
              "Parameters\n",
              "----------\n",
              "block : bool, optional\n",
              "    Whether to wait for all figures to be closed before returning.\n",
              "\n",
              "    If `True` block and run the GUI main loop until all figure windows\n",
              "    are closed.\n",
              "\n",
              "    If `False` ensure that all figure windows are displayed and return\n",
              "    immediately.  In this case, you are responsible for ensuring\n",
              "    that the event loop is running to have responsive figures.\n",
              "\n",
              "    Defaults to True in non-interactive mode and to False in interactive\n",
              "    mode (see `.pyplot.isinteractive`).\n",
              "\n",
              "See Also\n",
              "--------\n",
              "ion : Enable interactive mode, which shows / updates the figure after\n",
              "      every plotting command, so that calling ``show()`` is not necessary.\n",
              "ioff : Disable interactive mode.\n",
              "savefig : Save the figure to an image file instead of showing it on screen.\n",
              "\n",
              "Notes\n",
              "-----\n",
              "**Saving figures to file and showing a window at the same time**\n",
              "\n",
              "If you want an image file as well as a user interface window, use\n",
              "`.pyplot.savefig` before `.pyplot.show`. At the end of (a blocking)\n",
              "``show()`` the figure is closed and thus unregistered from pyplot. Calling\n",
              "`.pyplot.savefig` afterwards would save a new and thus empty figure. This\n",
              "limitation of command order does not apply if the show is non-blocking or\n",
              "if you keep a reference to the figure and use `.Figure.savefig`.\n",
              "\n",
              "**Auto-show in jupyter notebooks**\n",
              "\n",
              "The jupyter backends (activated via ``%matplotlib inline``,\n",
              "``%matplotlib notebook``, or ``%matplotlib widget``), call ``show()`` at\n",
              "the end of every cell by default. Thus, you usually don&#x27;t have to call it\n",
              "explicitly there.</pre>\n",
              "      <script>\n",
              "      if (google.colab.kernel.accessAllowed && google.colab.files && google.colab.files.view) {\n",
              "        for (const element of document.querySelectorAll('.filepath')) {\n",
              "          element.style.display = 'block'\n",
              "          element.onclick = (event) => {\n",
              "            event.preventDefault();\n",
              "            event.stopPropagation();\n",
              "            google.colab.files.view(element.textContent, 482);\n",
              "          };\n",
              "        }\n",
              "      }\n",
              "      for (const element of document.querySelectorAll('.function-repr-contents')) {\n",
              "        element.onclick = (event) => {\n",
              "          event.preventDefault();\n",
              "          event.stopPropagation();\n",
              "          element.classList.toggle('function-repr-contents-collapsed');\n",
              "        };\n",
              "      }\n",
              "      </script>\n",
              "      </div>"
            ]
          },
          "metadata": {},
          "execution_count": 11
        },
        {
          "output_type": "display_data",
          "data": {
            "text/plain": [
              "<Figure size 640x480 with 1 Axes>"
            ],
            "image/png": "[encoded data removed]"
          },
          "metadata": {}
        }
      ]
    },
    {
      "cell_type": "code",
      "source": [
        "#@title # **Part 5: Real-World Scenario Prediction**\n",
        "\n",
        "humid_lvl = 0.8\n",
        "cloud_lvl = 0.6\n",
        "\n",
        "p_rain = conditional_probability(humid_lvl, cloud_lvl, 1)\n",
        "print(f\"Probability of rain: {p_rain}\")"
      ],
      "metadata": {
        "colab": {
          "base_uri": "https://localhost:8080/"
        },
        "id": "LsMly0gT0qTw",
        "outputId": "68eea017-4375-4f1a-bd04-a335f36feca5"
      },
      "execution_count": 12,
      "outputs": [
        {
          "output_type": "stream",
          "name": "stdout",
          "text": [
            "Probability of rain: 0.48\n"
          ]
        }
      ]
    }
  ]
}