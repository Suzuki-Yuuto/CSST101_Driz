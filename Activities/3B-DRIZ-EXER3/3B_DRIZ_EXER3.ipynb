{
  "nbformat": 4,
  "nbformat_minor": 0,
  "metadata": {
    "colab": {
      "provenance": []
    },
    "kernelspec": {
      "name": "python3",
      "display_name": "Python 3"
    },
    "language_info": {
      "name": "python"
    }
  },
  "cells": [
    {
      "cell_type": "markdown",
      "source": [
        "# Exercise 3\n",
        "\n",
        "* Name: Driz, Eldi Nill L.\n",
        "* Section: BSCS 3B\n",
        "* Subject: CSST 101\n",
        "* Teacher: Sir Mark Bernardino"
      ],
      "metadata": {
        "id": "pVqucSIgMnfd"
      }
    },
    {
      "cell_type": "markdown",
      "source": [
        "## Part 1: Defining the Problem and System Design\n",
        "\n",
        "1. Select a Disease for Diagnosis\n",
        "* Choose a disease that your AI system will predict (e.g., diabetes, heart disease, or a viral infection)\n",
        "\n",
        "  * **Question:** What disease did you choose, and what factors (symptoms, test results) contribute to diagnosing this disease?\n",
        "\n",
        "  * **Answer:**\n",
        "  * Disease: Diabetes\n",
        "  * Contributing Factors:\n",
        "    * Family History\n",
        "    * Obesity\n",
        "    * Age"
      ],
      "metadata": {
        "id": "hEiEuZpuNG2h"
      }
    },
    {
      "cell_type": "markdown",
      "source": [
        "## Part 2: Basic Probabilty\n",
        "  2. Bayesian Inference Calculation\n",
        "  * Imagine that a patient has undergone a diagnostic test for the disease. Use the following information:\n",
        "    * Prior probability (prevalence of the disease): P(Disease) = 0.02\n",
        "    * Test sensitivity (probability of a positive result given disease): P(Positive|Disease) = 0.95\n",
        "    * False positive rate (probability of a positive result given no disease): P(Positive|NoDisease) = 0.05\n",
        "    * Probability of a positive result in the poopulation: P(Positive) = 0.06\n",
        "    * **Task**: Calculate the posterior probability that the patient has the disease given that they had tested positive\n",
        "\n",
        "  * **Answer:**\n",
        "\n",
        "    * Posterior Probability: 0.31666666666666665"
      ],
      "metadata": {
        "id": "kELJD1VFesBu"
      }
    },
    {
      "cell_type": "code",
      "source": [
        "Prior_proba = 0.02\n",
        "Test_sens = 0.95\n",
        "Fpositive = 0.05\n",
        "Prob_positive = 0.06\n",
        "\n",
        "Posterior = (Test_sens * Prior_proba) / Prob_positive\n",
        "\n",
        "print(f\"Posterior Probability: {Posterior}\")"
      ],
      "metadata": {
        "colab": {
          "base_uri": "https://localhost:8080/"
        },
        "id": "1FtQY5CgpJse",
        "outputId": "7edb9e3e-9b08-416d-c1b4-e73c93763d1e"
      },
      "execution_count": null,
      "outputs": [
        {
          "output_type": "stream",
          "name": "stdout",
          "text": [
            "Posterior Probability: 0.31666666666666665\n"
          ]
        }
      ]
    },
    {
      "cell_type": "markdown",
      "source": [
        "## Part 3: Decision-Making Simulation\n",
        "\n",
        "3. Simulate a Decision with Uncertain Outcomes\n",
        "* Suppose a doctor must decide whethere to treat a patient based on test results. Treatment has a 70% chance of success and provides a benefit of 100 points to the patient's health, but it also carries a 30% risk of failure, leading to a 50-point reduction.\n",
        "\n",
        "  * **Task:** Calculate the expected health improvement for the patient based on these probabilities.\n",
        "\n",
        "* **Answer:**\n",
        "  * Expected Improvement: 85.0"
      ],
      "metadata": {
        "id": "iDYa3h_ypbH9"
      }
    },
    {
      "cell_type": "code",
      "source": [
        "success = 0.7\n",
        "benefit = 100\n",
        "failure = 0.3\n",
        "loss = 50\n",
        "\n",
        "expected_health_improvement = (success * benefit) + (failure * loss)\n",
        "\n",
        "print(f\"Expected Health Improvement: {expected_health_improvement}\")"
      ],
      "metadata": {
        "colab": {
          "base_uri": "https://localhost:8080/"
        },
        "id": "I1UR1r8qqBbW",
        "outputId": "5b804f2c-f543-4dcf-fdd2-818863c58382"
      },
      "execution_count": null,
      "outputs": [
        {
          "output_type": "stream",
          "name": "stdout",
          "text": [
            "Expected Health Improvement: 85.0\n"
          ]
        }
      ]
    },
    {
      "cell_type": "markdown",
      "source": [
        "## Part 4: Visualize a Probability Distribution\n",
        "\n",
        "4. Visualize a Binomial Distribution\n",
        "* Consider a scenario where you flip a coin 5 times, where each flip has a 50% chance of landing heads.\n",
        "  * **Task:** Draw a probability distrubtion showing the chances of getting 0 to 5 heads."
      ],
      "metadata": {
        "id": "mJKjVB4rqHG7"
      }
    },
    {
      "cell_type": "code",
      "source": [
        "import numpy as np\n",
        "import matplotlib.pyplot as plt\n",
        "from scipy.stats import binom\n",
        "\n",
        "n = 1000\n",
        "p = 0.02\n",
        "\n",
        "x = np.arange(0, 51)\n",
        "probability = binom.pmf(x, n, p)\n",
        "\n",
        "plt.figure(figsize=(10, 6))\n",
        "plt.bar(x, probability)\n",
        "plt.xlabel('Number of Diabetes Cases')\n",
        "plt.ylabel('Probability')\n",
        "plt.title('Predicted Diabetes Cases in 1000 People')\n",
        "plt.show()"
      ],
      "metadata": {
        "colab": {
          "base_uri": "https://localhost:8080/",
          "height": 564
        },
        "id": "Y_Ke4LOEqhsN",
        "outputId": "533daa8b-1386-4c39-a4d4-8a68d824ee7a"
      },
      "execution_count": null,
      "outputs": [
        {
          "output_type": "display_data",
          "data": {
            "text/plain": [
              "<Figure size 1000x600 with 1 Axes>"
            ],
            "image/png": "[encoded data removed]"
          },
          "metadata": {}
        }
      ]
    },
    {
      "cell_type": "markdown",
      "source": [
        "## Reflection Question:\n",
        "5. Reflection:\n",
        "* In 3-4 sentences, explain how understanding probability theory helps in making decisions in medical diagnosis systems.\n",
        "\n",
        "\n",
        "Understanding probability theory is important in medical diagnosis systems since it provides a structured approach to quantify uncertainty and guide medical decision-making. By using frameworks like Bayesian Probability, doctors can update their beliefs about a patient's disease state based on test results and clinical signs, balancing diagnostic uncertainty against treatment costs and benefits. This probabilistic reasoning helps establish decision thresholds, determining when to treat or investigate further based on the likelihood of disease, therefore improving patient management and minimizing unnecessary interventions. A solid grasp of probability enables healthcare providers to make informed decisions that align with evidence-based practices, enhancing the quality of care delivered."
      ],
      "metadata": {
        "id": "TEZ-nssvq0bv"
      }
    }
  ]
}