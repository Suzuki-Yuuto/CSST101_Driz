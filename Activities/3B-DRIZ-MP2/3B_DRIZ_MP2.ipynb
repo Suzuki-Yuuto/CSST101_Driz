{
  "nbformat": 4,
  "nbformat_minor": 0,
  "metadata": {
    "colab": {
      "provenance": []
    },
    "kernelspec": {
      "name": "python3",
      "display_name": "Python 3"
    },
    "language_info": {
      "name": "python"
    }
  },
  "cells": [
    {
      "cell_type": "markdown",
      "source": [
        "# Machine Problem #2: Implementing a Logic-Based Model in Python"
      ],
      "metadata": {
        "id": "2TyjQ3mBexfD"
      }
    },
    {
      "cell_type": "code",
      "execution_count": 9,
      "metadata": {
        "colab": {
          "base_uri": "https://localhost:8080/"
        },
        "id": "CobO3ScNdU25",
        "outputId": "2b299f72-de56-4cf5-dea4-7938a58e60db"
      },
      "outputs": [
        {
          "output_type": "stream",
          "name": "stdout",
          "text": [
            "AND: False\n",
            "OR: True\n",
            "NOT p: False\n",
            "IMPLIES: False\n"
          ]
        }
      ],
      "source": [
        "#@title # **1. Propositional Logic Operations**\n",
        "#@markdown # **Explanation:**\n",
        "#@markdown - Propositional logic uses basic operations to combine and manipulate truth values, such as and_operation(p, q) and implies_operation(p, q), which return True if both p and q are True.\n",
        "def and_operation(p,q):\n",
        "    # it will return as true if both variables are true\n",
        "    return p and q\n",
        "\n",
        "def or_operation(p,q):\n",
        "    # if either variable is true then it will return as true\n",
        "    return p or q\n",
        "\n",
        "def not_operation(p):\n",
        "    # if the variable is true then it will return as false and vice versa\n",
        "    return not p\n",
        "\n",
        "def implies_operation(p,q):\n",
        "    # it will only return as false if 'p' is true and 'q' is false\n",
        "    return not p or q\n",
        "\n",
        "# Example Usage\n",
        "\n",
        "p = \"True\"\n",
        "q = \"False\"\n",
        "\n",
        "print(\"AND:\", and_operation(p, q))         # False\n",
        "print(\"OR:\", or_operation(p, q))           # True\n",
        "print(\"NOT p:\", not_operation(p))         # False\n",
        "print(\"IMPLIES:\", implies_operation(p, q)) # False"
      ]
    },
    {
      "cell_type": "code",
      "source": [
        "#@title # **2. Evaluate Logical Statements**\n",
        "#@markdown # **Explanation:**\n",
        "#@markdown - The function enables the dynamic evaluation of string-based logical expressions, enabling efficient testing of various scenarios using a dictionary of variable values.\n",
        "\n",
        "import re\n",
        "\n",
        "def evaluate(statement, values):\n",
        "    # Replace variables in the statement with their corresponding values\n",
        "    for var, val in values.items():\n",
        "        statement = re.sub(r'\\b' + re.escape(var) + r'\\b', str(val), statement)\n",
        "\n",
        "    # Replace logical operators with Python's equivalents\n",
        "    statement = statement.replace('AND', 'and').replace('OR', 'or').replace('NOT', 'not')\n",
        "\n",
        "    # Evaluate the modified statement\n",
        "    try:\n",
        "        return eval(statement)\n",
        "    except Exception as e:\n",
        "        return f\"Error evaluating statement: {e}\"\n",
        "\n",
        "# Example Usage\n",
        "\n",
        "p = \"True\"\n",
        "q = \"False\"\n",
        "r = \"True\"\n",
        "\n",
        "# Logical statement and values\n",
        "statement = \"(p and q) or not r\"\n",
        "values = {'p': True, 'q': False, 'r': True}\n",
        "\n",
        "# Evaluate the statement\n",
        "print(\"Evaluation Result:\", evaluate(statement, values))  # Expected output: False"
      ],
      "metadata": {
        "colab": {
          "base_uri": "https://localhost:8080/"
        },
        "id": "NgC6AdbXrNRJ",
        "outputId": "89a7bbf1-3f2b-49e3-d2ca-c5b862f0b40f"
      },
      "execution_count": 10,
      "outputs": [
        {
          "output_type": "stream",
          "name": "stdout",
          "text": [
            "Evaluation Result: False\n"
          ]
        }
      ]
    },
    {
      "cell_type": "code",
      "source": [
        "#@title # **3. Extend to Predicate Logic**\n",
        "#@markdown # **Explanation:**\n",
        "#@markdown - Predicate logic is a system of statements about objects and their properties, with functions like `forall` and `exists` allowing us to test predicates across a range of values, ensuring they are true for all elements.\n",
        "\n",
        "def forall(predicate, domain):\n",
        "    # It checks if the given predicate is true for every element in the domain\n",
        "    return all(predicate(x) for x in domain)\n",
        "\n",
        "def exists(predicate, domain):\n",
        "    # It checks if there is at least one(1) element in the domain satisfies the predicate\n",
        "    return any(predicate(x) for x in domain)\n",
        "\n",
        "# Example Usage\n",
        "\n",
        "D1 = 1\n",
        "D2 = 2\n",
        "D3 = 3\n",
        "D4 = 4\n",
        "D5 = 5\n",
        "\n",
        "domain = [D1, D2, D3, D4, D5]\n",
        "predicate = lambda x: x > 3\n",
        "\n",
        "print(\"FOR ALL:\", forall(predicate, domain)) # False\n",
        "print(\"EXISTS:\", exists(predicate, domain))  # True\n"
      ],
      "metadata": {
        "colab": {
          "base_uri": "https://localhost:8080/"
        },
        "id": "1LrBqLBjr0WW",
        "outputId": "6a0aa3f8-ba21-4fca-e4e0-ef9fb31e5993"
      },
      "execution_count": 11,
      "outputs": [
        {
          "output_type": "stream",
          "name": "stdout",
          "text": [
            "FOR ALL: False\n",
            "EXISTS: True\n"
          ]
        }
      ]
    },
    {
      "cell_type": "code",
      "source": [
        "#@title # **4. AI Agent Development**\n",
        "#@markdown # **Explanation:**\n",
        "#@markdown - The AI agent makes decisions based on predefined scenarios and current conditions, such as attacking an enemy or gathering resources in a game, or adapting to weather conditions in an environmental scenario.\n",
        "\n",
        "class SimpleWeatherAI:\n",
        "    def __init__(self):\n",
        "        self.weather_conditions = {\n",
        "            \"sunny\": \"Go for a walk.\",\n",
        "            \"rainy\": \"Stay indoors and read a book.\",\n",
        "            \"snowy\": \"Build a snowman.\",\n",
        "            \"cloudy\": \"Go for a run.\",\n",
        "        }\n",
        "\n",
        "    def recommend_activity(self, weather):\n",
        "        # Get the recommended activity based on the weather\n",
        "        return self.weather_conditions.get(weather.lower(), \"No activity recommended.\")\n",
        "\n",
        "# Example Usage\n",
        "if __name__ == \"__main__\":\n",
        "    ai_agent = SimpleWeatherAI()\n",
        "\n",
        "    # Simulate different weather conditions\n",
        "    weather_conditions = [\"sunny\"]\n",
        "\n",
        "    for weather in weather_conditions:\n",
        "        activity = ai_agent.recommend_activity(weather)\n",
        "        print(f\"Weather: {weather.capitalize()} - Activity: {activity}\") # Exepected Output: Go for a walk"
      ],
      "metadata": {
        "colab": {
          "base_uri": "https://localhost:8080/"
        },
        "id": "b7eOlqDwtZw0",
        "outputId": "eaf14ccb-7247-461e-e74f-90c6d8b95fb9"
      },
      "execution_count": 12,
      "outputs": [
        {
          "output_type": "stream",
          "name": "stdout",
          "text": [
            "Weather: Sunny - Activity: Go for a walk.\n"
          ]
        }
      ]
    }
  ]
}