{
  "nbformat": 4,
  "nbformat_minor": 0,
  "metadata": {
    "colab": {
      "provenance": []
    },
    "kernelspec": {
      "name": "python3",
      "display_name": "Python 3"
    },
    "language_info": {
      "name": "python"
    }
  },
  "cells": [
    {
      "cell_type": "markdown",
      "source": [
        "# Laboratory Exercise 3: Bayesian Networks\n"
      ],
      "metadata": {
        "id": "MNE66gvwEuAP"
      }
    },
    {
      "cell_type": "code",
      "execution_count": 1,
      "metadata": {
        "colab": {
          "base_uri": "https://localhost:8080/"
        },
        "id": "6htFC8FeEsNW",
        "outputId": "d1020348-bd95-419d-d98c-a260a4252963"
      },
      "outputs": [
        {
          "output_type": "stream",
          "name": "stdout",
          "text": [
            "Collecting pgmpy\n",
            "  Downloading pgmpy-0.1.26-py3-none-any.whl.metadata (9.1 kB)\n",
            "Requirement already satisfied: networkx in /usr/local/lib/python3.10/dist-packages (from pgmpy) (3.4.2)\n",
            "Requirement already satisfied: numpy in /usr/local/lib/python3.10/dist-packages (from pgmpy) (1.26.4)\n",
            "Requirement already satisfied: scipy in /usr/local/lib/python3.10/dist-packages (from pgmpy) (1.13.1)\n",
            "Requirement already satisfied: scikit-learn in /usr/local/lib/python3.10/dist-packages (from pgmpy) (1.6.0)\n",
            "Requirement already satisfied: pandas in /usr/local/lib/python3.10/dist-packages (from pgmpy) (2.2.2)\n",
            "Requirement already satisfied: pyparsing in /usr/local/lib/python3.10/dist-packages (from pgmpy) (3.2.0)\n",
            "Requirement already satisfied: torch in /usr/local/lib/python3.10/dist-packages (from pgmpy) (2.5.1+cu121)\n",
            "Requirement already satisfied: statsmodels in /usr/local/lib/python3.10/dist-packages (from pgmpy) (0.14.4)\n",
            "Requirement already satisfied: tqdm in /usr/local/lib/python3.10/dist-packages (from pgmpy) (4.67.1)\n",
            "Requirement already satisfied: joblib in /usr/local/lib/python3.10/dist-packages (from pgmpy) (1.4.2)\n",
            "Requirement already satisfied: opt-einsum in /usr/local/lib/python3.10/dist-packages (from pgmpy) (3.4.0)\n",
            "Requirement already satisfied: xgboost in /usr/local/lib/python3.10/dist-packages (from pgmpy) (2.1.3)\n",
            "Requirement already satisfied: google-generativeai in /usr/local/lib/python3.10/dist-packages (from pgmpy) (0.8.3)\n",
            "Requirement already satisfied: google-ai-generativelanguage==0.6.10 in /usr/local/lib/python3.10/dist-packages (from google-generativeai->pgmpy) (0.6.10)\n",
            "Requirement already satisfied: google-api-core in /usr/local/lib/python3.10/dist-packages (from google-generativeai->pgmpy) (2.19.2)\n",
            "Requirement already satisfied: google-api-python-client in /usr/local/lib/python3.10/dist-packages (from google-generativeai->pgmpy) (2.155.0)\n",
            "Requirement already satisfied: google-auth>=2.15.0 in /usr/local/lib/python3.10/dist-packages (from google-generativeai->pgmpy) (2.27.0)\n",
            "Requirement already satisfied: protobuf in /usr/local/lib/python3.10/dist-packages (from google-generativeai->pgmpy) (4.25.5)\n",
            "Requirement already satisfied: pydantic in /usr/local/lib/python3.10/dist-packages (from google-generativeai->pgmpy) (2.10.3)\n",
            "Requirement already satisfied: typing-extensions in /usr/local/lib/python3.10/dist-packages (from google-generativeai->pgmpy) (4.12.2)\n",
            "Requirement already satisfied: proto-plus<2.0.0dev,>=1.22.3 in /usr/local/lib/python3.10/dist-packages (from google-ai-generativelanguage==0.6.10->google-generativeai->pgmpy) (1.25.0)\n",
            "Requirement already satisfied: python-dateutil>=2.8.2 in /usr/local/lib/python3.10/dist-packages (from pandas->pgmpy) (2.8.2)\n",
            "Requirement already satisfied: pytz>=2020.1 in /usr/local/lib/python3.10/dist-packages (from pandas->pgmpy) (2024.2)\n",
            "Requirement already satisfied: tzdata>=2022.7 in /usr/local/lib/python3.10/dist-packages (from pandas->pgmpy) (2024.2)\n",
            "Requirement already satisfied: threadpoolctl>=3.1.0 in /usr/local/lib/python3.10/dist-packages (from scikit-learn->pgmpy) (3.5.0)\n",
            "Requirement already satisfied: patsy>=0.5.6 in /usr/local/lib/python3.10/dist-packages (from statsmodels->pgmpy) (1.0.1)\n",
            "Requirement already satisfied: packaging>=21.3 in /usr/local/lib/python3.10/dist-packages (from statsmodels->pgmpy) (24.2)\n",
            "Requirement already satisfied: filelock in /usr/local/lib/python3.10/dist-packages (from torch->pgmpy) (3.16.1)\n",
            "Requirement already satisfied: jinja2 in /usr/local/lib/python3.10/dist-packages (from torch->pgmpy) (3.1.4)\n",
            "Requirement already satisfied: fsspec in /usr/local/lib/python3.10/dist-packages (from torch->pgmpy) (2024.10.0)\n",
            "Requirement already satisfied: sympy==1.13.1 in /usr/local/lib/python3.10/dist-packages (from torch->pgmpy) (1.13.1)\n",
            "Requirement already satisfied: mpmath<1.4,>=1.1.0 in /usr/local/lib/python3.10/dist-packages (from sympy==1.13.1->torch->pgmpy) (1.3.0)\n",
            "Requirement already satisfied: nvidia-nccl-cu12 in /usr/local/lib/python3.10/dist-packages (from xgboost->pgmpy) (2.23.4)\n",
            "Requirement already satisfied: googleapis-common-protos<2.0.dev0,>=1.56.2 in /usr/local/lib/python3.10/dist-packages (from google-api-core->google-generativeai->pgmpy) (1.66.0)\n",
            "Requirement already satisfied: requests<3.0.0.dev0,>=2.18.0 in /usr/local/lib/python3.10/dist-packages (from google-api-core->google-generativeai->pgmpy) (2.32.3)\n",
            "Requirement already satisfied: cachetools<6.0,>=2.0.0 in /usr/local/lib/python3.10/dist-packages (from google-auth>=2.15.0->google-generativeai->pgmpy) (5.5.0)\n",
            "Requirement already satisfied: pyasn1-modules>=0.2.1 in /usr/local/lib/python3.10/dist-packages (from google-auth>=2.15.0->google-generativeai->pgmpy) (0.4.1)\n",
            "Requirement already satisfied: rsa<5,>=3.1.4 in /usr/local/lib/python3.10/dist-packages (from google-auth>=2.15.0->google-generativeai->pgmpy) (4.9)\n",
            "Requirement already satisfied: six>=1.5 in /usr/local/lib/python3.10/dist-packages (from python-dateutil>=2.8.2->pandas->pgmpy) (1.17.0)\n",
            "Requirement already satisfied: httplib2<1.dev0,>=0.19.0 in /usr/local/lib/python3.10/dist-packages (from google-api-python-client->google-generativeai->pgmpy) (0.22.0)\n",
            "Requirement already satisfied: google-auth-httplib2<1.0.0,>=0.2.0 in /usr/local/lib/python3.10/dist-packages (from google-api-python-client->google-generativeai->pgmpy) (0.2.0)\n",
            "Requirement already satisfied: uritemplate<5,>=3.0.1 in /usr/local/lib/python3.10/dist-packages (from google-api-python-client->google-generativeai->pgmpy) (4.1.1)\n",
            "Requirement already satisfied: MarkupSafe>=2.0 in /usr/local/lib/python3.10/dist-packages (from jinja2->torch->pgmpy) (3.0.2)\n",
            "Requirement already satisfied: annotated-types>=0.6.0 in /usr/local/lib/python3.10/dist-packages (from pydantic->google-generativeai->pgmpy) (0.7.0)\n",
            "Requirement already satisfied: pydantic-core==2.27.1 in /usr/local/lib/python3.10/dist-packages (from pydantic->google-generativeai->pgmpy) (2.27.1)\n",
            "Requirement already satisfied: grpcio<2.0dev,>=1.33.2 in /usr/local/lib/python3.10/dist-packages (from google-api-core[grpc]!=2.0.*,!=2.1.*,!=2.10.*,!=2.2.*,!=2.3.*,!=2.4.*,!=2.5.*,!=2.6.*,!=2.7.*,!=2.8.*,!=2.9.*,<3.0.0dev,>=1.34.1->google-ai-generativelanguage==0.6.10->google-generativeai->pgmpy) (1.68.1)\n",
            "Requirement already satisfied: grpcio-status<2.0.dev0,>=1.33.2 in /usr/local/lib/python3.10/dist-packages (from google-api-core[grpc]!=2.0.*,!=2.1.*,!=2.10.*,!=2.2.*,!=2.3.*,!=2.4.*,!=2.5.*,!=2.6.*,!=2.7.*,!=2.8.*,!=2.9.*,<3.0.0dev,>=1.34.1->google-ai-generativelanguage==0.6.10->google-generativeai->pgmpy) (1.62.3)\n",
            "Requirement already satisfied: pyasn1<0.7.0,>=0.4.6 in /usr/local/lib/python3.10/dist-packages (from pyasn1-modules>=0.2.1->google-auth>=2.15.0->google-generativeai->pgmpy) (0.6.1)\n",
            "Requirement already satisfied: charset-normalizer<4,>=2 in /usr/local/lib/python3.10/dist-packages (from requests<3.0.0.dev0,>=2.18.0->google-api-core->google-generativeai->pgmpy) (3.4.0)\n",
            "Requirement already satisfied: idna<4,>=2.5 in /usr/local/lib/python3.10/dist-packages (from requests<3.0.0.dev0,>=2.18.0->google-api-core->google-generativeai->pgmpy) (3.10)\n",
            "Requirement already satisfied: urllib3<3,>=1.21.1 in /usr/local/lib/python3.10/dist-packages (from requests<3.0.0.dev0,>=2.18.0->google-api-core->google-generativeai->pgmpy) (2.2.3)\n",
            "Requirement already satisfied: certifi>=2017.4.17 in /usr/local/lib/python3.10/dist-packages (from requests<3.0.0.dev0,>=2.18.0->google-api-core->google-generativeai->pgmpy) (2024.12.14)\n",
            "Downloading pgmpy-0.1.26-py3-none-any.whl (2.0 MB)\n",
            "\u001b[2K   \u001b[90m━━━━━━━━━━━━━━━━━━━━━━━━━━━━━━━━━━━━━━━━\u001b[0m \u001b[32m2.0/2.0 MB\u001b[0m \u001b[31m22.2 MB/s\u001b[0m eta \u001b[36m0:00:00\u001b[0m\n",
            "\u001b[?25hInstalling collected packages: pgmpy\n",
            "Successfully installed pgmpy-0.1.26\n"
          ]
        }
      ],
      "source": [
        "#@title **Exercise 1:Setting Up the Environment**\n",
        "!pip install pgmpy\n",
        "import numpy as np\n",
        "import pandas as pd\n",
        "from pgmpy.models import BayesianModel\n",
        "from pgmpy.inference import BeliefPropagation\n",
        "from pgmpy.inference import VariableElimination\n",
        "from pgmpy.factors.discrete import TabularCPD"
      ]
    },
    {
      "cell_type": "code",
      "source": [
        "#@title **Exercise 2: Building a Simple Bayesian Network**\n",
        "\n",
        "# Define the structure of the Bayesian Network\n",
        "model = BayesianModel([('Weather', 'Traffic'), ('Traffic', 'Late')])\n",
        "\n",
        "# Weather CPD\n",
        "cpd_weather = TabularCPD(variable='Weather', variable_card=2, values=[[0.8], [0.2]])\n",
        "\n",
        "# Traffic CPD given Weather\n",
        "cpd_traffic = TabularCPD(variable='Traffic', variable_card=2,\n",
        "                         values=[[0.9,0.5], [0.1,0.5]], # P(Light | Sunny, Rainy)\n",
        "                         evidence=['Weather'],\n",
        "                         evidence_card=[2])\n",
        "\n",
        "# Late CPD given Traffic\n",
        "cpd_late = TabularCPD(variable='Late', variable_card=2,\n",
        "                         values=[[0.95,0.4], [0.05,0.6]], # P(On Time | Light, Heavy)\n",
        "                         evidence=['Traffic'],\n",
        "                         evidence_card=[2])\n",
        "\n",
        "# Add CPDs to the model\n",
        "model.add_cpds(cpd_weather, cpd_traffic, cpd_late)\n",
        "\n",
        "# Check if the model is valid\n",
        "assert model.check_model()"
      ],
      "metadata": {
        "colab": {
          "base_uri": "https://localhost:8080/"
        },
        "id": "82EvsvoMGPYw",
        "outputId": "0aa631cd-3900-465f-ea4e-a3adbbf32817"
      },
      "execution_count": 5,
      "outputs": [
        {
          "output_type": "stream",
          "name": "stderr",
          "text": [
            "WARNING:pgmpy:BayesianModel has been renamed to BayesianNetwork. Please use BayesianNetwork class, BayesianModel will be removed in future.\n"
          ]
        }
      ]
    },
    {
      "cell_type": "code",
      "source": [
        "#@title **Exercise 3: Querying the Bayesian Network**\n",
        "\n",
        "# Create an inference object\n",
        "inference = VariableElimination(model)\n",
        "\n",
        "# Query the probability of being Late given that Weather is Rainy\n",
        "result = inference.query(variables=['Late'], evidence={'Weather': 1}) # 1 corresponds Rainy\n",
        "print(result)"
      ],
      "metadata": {
        "colab": {
          "base_uri": "https://localhost:8080/"
        },
        "id": "HmpkF4a9HTkm",
        "outputId": "4335d798-4b8e-47db-f113-95dfea1a85e6"
      },
      "execution_count": 6,
      "outputs": [
        {
          "output_type": "stream",
          "name": "stderr",
          "text": [
            "WARNING:pgmpy:BayesianModel has been renamed to BayesianNetwork. Please use BayesianNetwork class, BayesianModel will be removed in future.\n",
            "WARNING:pgmpy:BayesianModel has been renamed to BayesianNetwork. Please use BayesianNetwork class, BayesianModel will be removed in future.\n"
          ]
        },
        {
          "output_type": "stream",
          "name": "stdout",
          "text": [
            "+---------+-------------+\n",
            "| Late    |   phi(Late) |\n",
            "+=========+=============+\n",
            "| Late(0) |      0.6750 |\n",
            "+---------+-------------+\n",
            "| Late(1) |      0.3250 |\n",
            "+---------+-------------+\n"
          ]
        }
      ]
    },
    {
      "cell_type": "code",
      "source": [
        "#@title **Exercise 4: Parameter Learning**\n",
        "\n",
        "# Create a synthetic dataset\n",
        "# 0 for Sunny, 1 for Rainy\n",
        "data = pd.DataFrame({\n",
        "    'Weather': np.random.choice([0,1], size=1000, p=[0.8, 0.2]),\n",
        "    'Traffic': np.nan,\n",
        "    'Late': np.nan\n",
        "})\n",
        "\n",
        "# Fill traffic based on Weather\n",
        "data.loc[data['Weather'] == 0, 'Traffic'] = np.random.choice(\n",
        "    [0,1],\n",
        "    size=data[data['Weather'] == 0].shape[0],\n",
        "    p=[0.9,0.1])\n",
        "\n",
        "data.loc[data['Weather'] == 1, 'Traffic'] = np.random.choice(\n",
        "    [0,1],\n",
        "    size=data[data['Weather'] == 1].shape[0],\n",
        "    p=[0.5,0.5])\n",
        "\n",
        "# Fill Late basesd on Traffic\n",
        "data['Late'] = np.where(\n",
        "    data['Traffic'] == 0,\n",
        "    np.random.choice([0,1], size=data.shape[0], p=[0.95,0.05]),\n",
        "    np.random.choice([0,1], size=data.shape[0], p=[0.4,0.6])\n",
        ")\n",
        "\n",
        "from pgmpy.estimators import MaximumLikelihoodEstimator\n",
        "\n",
        "# Create a Bayesian Model\n",
        "model = BayesianModel([('Weather', 'Traffic'), ('Traffic','Late')])\n",
        "\n",
        "# Fit the model to the data using Maximum Likelihood Estimation\n",
        "model.fit(data, estimator=MaximumLikelihoodEstimator)\n",
        "\n",
        "# Check the estimated CPDs\n",
        "for cpd in model.get_cpds():\n",
        "  print(cpd)"
      ],
      "metadata": {
        "colab": {
          "base_uri": "https://localhost:8080/"
        },
        "id": "WtCg7g6PHlp0",
        "outputId": "0ed7b693-278e-4565-b976-9342b610805b"
      },
      "execution_count": 7,
      "outputs": [
        {
          "output_type": "stream",
          "name": "stderr",
          "text": [
            "WARNING:pgmpy:BayesianModel has been renamed to BayesianNetwork. Please use BayesianNetwork class, BayesianModel will be removed in future.\n"
          ]
        },
        {
          "output_type": "stream",
          "name": "stdout",
          "text": [
            "+------------+-------+\n",
            "| Weather(0) | 0.793 |\n",
            "+------------+-------+\n",
            "| Weather(1) | 0.207 |\n",
            "+------------+-------+\n",
            "+--------------+---------------------+---------------------+\n",
            "| Weather      | Weather(0)          | Weather(1)          |\n",
            "+--------------+---------------------+---------------------+\n",
            "| Traffic(0.0) | 0.8915510718789408  | 0.48792270531400966 |\n",
            "+--------------+---------------------+---------------------+\n",
            "| Traffic(1.0) | 0.10844892812105927 | 0.5120772946859904  |\n",
            "+--------------+---------------------+---------------------+\n",
            "+---------+---------------------+--------------------+\n",
            "| Traffic | Traffic(0.0)        | Traffic(1.0)       |\n",
            "+---------+---------------------+--------------------+\n",
            "| Late(0) | 0.9381188118811881  | 0.4479166666666667 |\n",
            "+---------+---------------------+--------------------+\n",
            "| Late(1) | 0.06188118811881188 | 0.5520833333333334 |\n",
            "+---------+---------------------+--------------------+\n"
          ]
        }
      ]
    },
    {
      "cell_type": "code",
      "source": [
        "#@title **Exercise 5: Visualizing the Bayesian Network**\n",
        "\n",
        "import matplotlib.pyplot as plt\n",
        "import networkx as nx\n",
        "\n",
        "def visualize_bn(model):\n",
        "    # Create a directed graph\n",
        "    G = nx.DiGraph()\n",
        "    G.add_edges_from(model.edges())\n",
        "\n",
        "    # Set up the plot\n",
        "    plt.figure(figsize=(10, 7))\n",
        "    pos = nx.spring_layout(G)\n",
        "\n",
        "    # Draw nodes\n",
        "    nx.draw_networkx_nodes(G, pos, node_color='lightblue', node_size=3000, alpha=0.8)\n",
        "    nx.draw_networkx_labels(G, pos, font_size=16, font_weight='bold')\n",
        "\n",
        "    # Draw edges\n",
        "    nx.draw_networkx_edges(G, pos, edge_color='gray', arrows=True, arrowsize=30)\n",
        "\n",
        "    # Add a title\n",
        "    plt.title(\"Bayesian Network Structure\", fontsize=20, fontweight='bold')\n",
        "\n",
        "    # Remove axis\n",
        "    plt.axis('off')\n",
        "\n",
        "    # Show the plot\n",
        "    plt.tight_layout()\n",
        "    plt.show()\n",
        "\n",
        "visualize_bn(model)"
      ],
      "metadata": {
        "colab": {
          "base_uri": "https://localhost:8080/",
          "height": 707
        },
        "id": "UuLl0TSsI7zN",
        "outputId": "037fbc07-9d5d-4d20-e3cc-acbae6c6a732"
      },
      "execution_count": 12,
      "outputs": [
        {
          "output_type": "display_data",
          "data": {
            "text/plain": [
              "<Figure size 1000x700 with 1 Axes>"
            ],
            "image/png": "[encoded data removed]"
          },
          "metadata": {}
        }
      ]
    }
  ]
}