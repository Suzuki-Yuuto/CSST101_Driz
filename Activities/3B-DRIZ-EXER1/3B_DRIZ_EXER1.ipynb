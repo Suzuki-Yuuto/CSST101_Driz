{
  "nbformat": 4,
  "nbformat_minor": 0,
  "metadata": {
    "colab": {
      "provenance": []
    },
    "kernelspec": {
      "name": "python3",
      "display_name": "Python 3"
    },
    "language_info": {
      "name": "python"
    }
  },
  "cells": [
    {
      "cell_type": "markdown",
      "source": [
        "# Laboratory Exercise 1"
      ],
      "metadata": {
        "id": "EdgwD-LbCR_Z"
      }
    },
    {
      "cell_type": "code",
      "execution_count": 1,
      "metadata": {
        "colab": {
          "base_uri": "https://localhost:8080/"
        },
        "id": "VivO1RE9_2bR",
        "outputId": "5673e24b-554d-43b6-9d57-341265429a04"
      },
      "outputs": [
        {
          "output_type": "stream",
          "name": "stdout",
          "text": [
            "The match will not light.\n"
          ]
        }
      ],
      "source": [
        "#@title Part 1\n",
        "raining = True\n",
        "# Function to determine if the ground is wet based on rain\n",
        "def is_ground_wet(raining):\n",
        "    return raining\n",
        "\n",
        "# Function to determine if the match will light based on the ground's state\n",
        "def can_match_light(ground_is_wet):\n",
        "    return not ground_is_wet\n",
        "\n",
        "# Main logic to simulate the conditions\n",
        "ground_is_wet = is_ground_wet(raining)\n",
        "match_lights = can_match_light(ground_is_wet)\n",
        "\n",
        "if match_lights:\n",
        "    print(\"The match will light.\")\n",
        "else:\n",
        "    print(\"The match will not light.\")"
      ]
    },
    {
      "cell_type": "code",
      "source": [
        "#@title Part 2\n",
        "person = \"Socrates\"\n",
        "\n",
        "def is_human(person):\n",
        "    return person == \"Socrates\"  # Returns True if the person is Socrates\n",
        "\n",
        "def is_mortal(person):\n",
        "    return is_human(person)  # A human is considered mortal\n",
        "\n",
        "# Check if the person is mortal and print the result\n",
        "if is_mortal(person):\n",
        "    print(f\"{person} is a mortal.\")\n",
        "else:\n",
        "    print(f\"{person} is not a mortal.\")\n"
      ],
      "metadata": {
        "colab": {
          "base_uri": "https://localhost:8080/"
        },
        "id": "I4GZyzfQAVXA",
        "outputId": "a267ec64-27b5-44da-a84b-0412323092b0"
      },
      "execution_count": 2,
      "outputs": [
        {
          "output_type": "stream",
          "name": "stdout",
          "text": [
            "Socrates is a mortal.\n"
          ]
        }
      ]
    },
    {
      "cell_type": "code",
      "source": [
        "#@title Part 3\n",
        "# Function to perform modus ponens\n",
        "def modus_ponens(rules, facts):\n",
        "    conclusions = []  # Initialize an empty list to store conclusions\n",
        "    for rule in rules:\n",
        "        premise, conclusion = rule\n",
        "        if premise in facts:  # Check if the premise is in the facts\n",
        "            conclusions.append(conclusion)  # Add conclusion if the premise is found\n",
        "    return conclusions\n",
        "\n",
        "\n",
        "# Input for rules and facts\n",
        "rules_input = \"Dog,Cat\"\n",
        "facts_input = \"Dog\"\n",
        "\n",
        "# Parse the rules input\n",
        "rules = [tuple(rule.split(',')) for rule in rules_input.split(';')]\n",
        "\n",
        "# Parse the facts input\n",
        "facts = facts_input.split(',')\n",
        "\n",
        "# Get the inferred conclusions\n",
        "conclusions = modus_ponens(rules, facts)\n",
        "print(\"Inferred Conclusions: \", conclusions)"
      ],
      "metadata": {
        "colab": {
          "base_uri": "https://localhost:8080/"
        },
        "id": "QKGUJIATAbUx",
        "outputId": "c3bea84f-5729-4ecd-d2fd-a9d03881addd"
      },
      "execution_count": 3,
      "outputs": [
        {
          "output_type": "stream",
          "name": "stdout",
          "text": [
            "Inferred Conclusions:  ['Cat']\n"
          ]
        }
      ]
    },
    {
      "cell_type": "code",
      "source": [
        "#@title Part 4\n",
        "john_is_hungry = True\n",
        "\n",
        "# Function to determine if John has eaten\n",
        "def has_eaten(john_is_hungry):\n",
        "    return not john_is_hungry  # John has eaten if he is not hungry\n",
        "\n",
        "# Determine John's current state based on his hunger\n",
        "if john_is_hungry:\n",
        "    # John is hungry, so he hasn't eaten\n",
        "    print(\"John is hungry and has not eaten yet.\")\n",
        "else:\n",
        "    # John is not hungry, so he has eaten\n",
        "    print(\"John has already eaten and is no longer hungry.\")\n"
      ],
      "metadata": {
        "colab": {
          "base_uri": "https://localhost:8080/"
        },
        "id": "6tisMjmGAotI",
        "outputId": "19d9d064-00cb-4f1b-9a39-6fd3cd86d88f"
      },
      "execution_count": 4,
      "outputs": [
        {
          "output_type": "stream",
          "name": "stdout",
          "text": [
            "John is hungry and has not eaten yet.\n"
          ]
        }
      ]
    }
  ]
}